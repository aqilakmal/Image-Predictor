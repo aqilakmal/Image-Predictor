{
 "cells": [],
 "metadata": {
  "interpreter": {
   "hash": "af5f806cba7cf3b539fa880bcb99a4f00dd3d822466fc2e710aeaa3795bd0285"
  },
  "kernelspec": {
   "display_name": "Python 3.8.11 64-bit ('web-dl': conda)",
   "language": "python",
   "name": "python3"
  },
  "language_info": {
   "codemirror_mode": {
    "name": "ipython",
    "version": 3
   },
   "file_extension": ".py",
   "mimetype": "text/x-python",
   "name": "python",
   "nbconvert_exporter": "python",
   "pygments_lexer": "ipython3",
   "version": "3.8.11"
  },
  "orig_nbformat": 4
 },
 "nbformat": 4,
 "nbformat_minor": 2
}
