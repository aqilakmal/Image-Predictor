{
 "cells": [
  {
   "cell_type": "markdown",
   "metadata": {},
   "source": [
    "Reference: [PyTorch – How to Load & Predict using Resnet Model](https://vitalflux.com/pytorch-load-predict-pretrained-resnet-model/)"
   ]
  },
  {
   "cell_type": "code",
   "execution_count": 2,
   "metadata": {},
   "outputs": [],
   "source": [
    "import torch\n",
    "import torchvision.models as models\n",
    "import torchvision.transforms as transforms\n",
    "import PIL.Image as Image"
   ]
  },
  {
   "cell_type": "code",
   "execution_count": null,
   "metadata": {},
   "outputs": [],
   "source": [
    "# device = torch.device(\"cuda\" if torch.cuda.is_available() else \"cpu\")\n",
    "# model = models.resnext101_32x8d(pretrained=True)\n",
    "# torch.save(model, \"resnext101_32x8d\")"
   ]
  },
  {
   "cell_type": "markdown",
   "metadata": {},
   "source": [
    "1. Load the file containing the 1,000 labels for the ImageNet dataset classes\n",
    "2. Find the index (tensor) corresponding to the maximum score in the out tensor. Torch.max function can be used to find the information.\n",
    "3. Find the score in terms of percentage by using torch.nn.functional.softmax function which normalizes the output to range [0,1] and multiplying by 100.\n",
    "4. Print the name along with score of the object identified by the model.\n",
    "5. Print the top 5 scores along with the image label. Sort function is invoked on the torch to sort the scores."
   ]
  },
  {
   "cell_type": "code",
   "execution_count": 3,
   "metadata": {},
   "outputs": [],
   "source": [
    "def predictImage(imagePath, best_only=True):\n",
    "    '''\n",
    "    Requires:\n",
    "    torch\n",
    "    torchvision.models as models\n",
    "    torchvision.transforms as transforms\n",
    "    PIL.Image as Image\n",
    "    '''\n",
    "\n",
    "    torch.device(\"cuda\")\n",
    "    model = torch.load(\"resnext101_32x8d.pt\")\n",
    "    \n",
    "    image = Image.open(imagePath)\n",
    "\n",
    "    preprocess = transforms.Compose([\n",
    "    transforms.Resize(256),\n",
    "    transforms.CenterCrop(244),\n",
    "    transforms.ToTensor(),\n",
    "    transforms.Normalize(\n",
    "        mean=[0.485, 0.456, 0.406],\n",
    "        std=[0.229, 0.224, 0.225]\n",
    "        )\n",
    "    ])\n",
    "\n",
    "    img_pps = preprocess(image)\n",
    "    batch_img_pps = torch.unsqueeze(img_pps, 0)\n",
    "    model.eval()\n",
    "    out = model(batch_img_pps)\n",
    "\n",
    "    # Getting the labels\n",
    "    with open('./imagenet_classes.txt') as f:\n",
    "        labels = [line.strip() for line in f.readlines()]\n",
    "\n",
    "    _, index = torch.max(out, 1)\n",
    "\n",
    "    percentage = torch.nn.functional.softmax(out, dim=1)[0] * 100\n",
    "\n",
    "    if best_only:\n",
    "        return labels[index[0]], percentage[index[0]].item()\n",
    "    else:\n",
    "        _, indices = torch.sort(out, descending=True)\n",
    "        return [(labels[i], percentage[i].item()) for i in indices[0][:5]]"
   ]
  },
  {
   "cell_type": "code",
   "execution_count": 4,
   "metadata": {},
   "outputs": [
    {
     "data": {
      "text/plain": [
       "('tabby, tabby cat', 83.1136245727539)"
      ]
     },
     "execution_count": 4,
     "metadata": {},
     "output_type": "execute_result"
    }
   ],
   "source": [
    "predictImage(\"./images/cat.jpg\")"
   ]
  }
 ],
 "metadata": {
  "interpreter": {
   "hash": "af5f806cba7cf3b539fa880bcb99a4f00dd3d822466fc2e710aeaa3795bd0285"
  },
  "kernelspec": {
   "display_name": "Python 3.8.11 64-bit ('web-dl': conda)",
   "name": "python3"
  },
  "language_info": {
   "codemirror_mode": {
    "name": "ipython",
    "version": 3
   },
   "file_extension": ".py",
   "mimetype": "text/x-python",
   "name": "python",
   "nbconvert_exporter": "python",
   "pygments_lexer": "ipython3",
   "version": "3.8.11"
  },
  "orig_nbformat": 4
 },
 "nbformat": 4,
 "nbformat_minor": 2
}
